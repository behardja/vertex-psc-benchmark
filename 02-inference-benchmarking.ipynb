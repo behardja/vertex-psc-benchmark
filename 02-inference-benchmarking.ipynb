{
 "cells": [
  {
   "cell_type": "code",
   "execution_count": null,
   "id": "160dd3fe-d01f-4694-b0a7-a9bbd4e825e5",
   "metadata": {},
   "outputs": [],
   "source": [
    "# Copyright 2024 Google LLC\n",
    "#\n",
    "# Licensed under the Apache License, Version 2.0 (the \"License\");\n",
    "# you may not use this file except in compliance with the License.\n",
    "# You may obtain a copy of the License at\n",
    "#\n",
    "#     https://www.apache.org/licenses/LICENSE-2.0\n",
    "#\n",
    "# Unless required by applicable law or agreed to in writing, software\n",
    "# distributed under the License is distributed on an \"AS IS\" BASIS,\n",
    "# WITHOUT WARRANTIES OR CONDITIONS OF ANY KIND, either express or implied.\n",
    "# See the License for the specific language governing permissions and\n",
    "# limitations under the License."
   ]
  },
  {
   "cell_type": "markdown",
   "id": "eb57f924-329b-4246-9f5c-de7494bde178",
   "metadata": {},
   "source": [
    "# Performance Benchamrking Vertex Endpoint\n",
    "\n",
    "This notebook demonstrates a method to simulate users accessing the Vertex AI private endpoint using a load testing tool called Locust. Locust measures metrics including requests per second, response times, and failure rates under user-specified load conditions. \n",
    "\n",
    "- `PROJECT_ID`: Google Cloud project ID where Vertex AI resources are deployed\n",
    "- `LOCATION`: Google Cloud region where the Vertex AI endpoint is located\n",
    "- `INTERNAL_IP_ADDRESS`: Internal IP address used to access the Vertex AI private service connect endpoint\n",
    "- `VERTEX_AI_ENDPOINT_NAME`: Name of the Vertex AI private service connect endpoint\n",
    "- `ENDPOINT_ID`: Identifier for the Vertex AI endpoint\n",
    "\n"
   ]
  },
  {
   "cell_type": "code",
   "execution_count": null,
   "id": "8ff3f20a-112d-4109-9088-a5ce799107b3",
   "metadata": {},
   "outputs": [],
   "source": [
    "# ! pip3 install --upgrade --user --quiet google-cloud-aiplatform"
   ]
  },
  {
   "cell_type": "code",
   "execution_count": null,
   "id": "3c088923-e4ce-4273-ae3a-3b5263d46e41",
   "metadata": {
    "tags": []
   },
   "outputs": [],
   "source": [
    "! pip3 install locust"
   ]
  },
  {
   "cell_type": "code",
   "execution_count": 39,
   "id": "d08eca50-c126-4a50-b121-2fc128b86e17",
   "metadata": {
    "tags": []
   },
   "outputs": [],
   "source": [
    "import json\n",
    "import google.auth.transport.requests\n",
    "import google.auth\n",
    "from google.cloud import storage\n",
    "import requests\n",
    "\n",
    "import logging\n",
    "logging.disable(logging.WARNING)\n",
    "\n",
    "import warnings\n",
    "warnings.filterwarnings('ignore')"
   ]
  },
  {
   "cell_type": "code",
   "execution_count": 41,
   "id": "7592df1c-bef4-43e5-908c-292fe2a07f5c",
   "metadata": {
    "tags": []
   },
   "outputs": [],
   "source": [
    "PROJECT_ID = \"sandbox-401718\"  # @param {type:\"string\"}\n",
    "LOCATION = \"us-central1\"  # @param {type:\"string\"}\n",
    "INTERNAL_IP_ADDRESS = \"\"  # @param {type:\"string\"}\n",
    "VERTEX_AI_ENDPOINT_NAME = \"psc-endpoint\"  # @param {type:\"string\"}\n",
    "ENDPOINT_ID = \"8753138401445675008\"  # @param {type:\"string\"}\n"
   ]
  },
  {
   "cell_type": "markdown",
   "id": "7e137b6b-35bf-4ffa-b8f1-737449d9982d",
   "metadata": {},
   "source": [
    "### Test Endpoint\n",
    "\n",
    "Test inferencing of the served model on the PSC private endpoint from `01-onnx_model_training_and_endpoint.ipynb` using REST requests"
   ]
  },
  {
   "cell_type": "code",
   "execution_count": 42,
   "id": "6fd7870f-8261-463f-aa74-c48cd19bd8ae",
   "metadata": {
    "tags": []
   },
   "outputs": [],
   "source": [
    "# Credentials\n",
    "\n",
    "# Set up Application Default Credentials (ADC)\n",
    "\n",
    "credentials, project_id = google.auth.default()\n",
    "auth_req = google.auth.transport.requests.Request()\n",
    "credentials.refresh(auth_req)\n",
    "access_token = credentials.token\n",
    "# url = f\"https://us-central1-aiplatform.googleapis.com/v1/projects/{PROJECT_ID}/locations/us-central1/pipelineJobs\"\n",
    "\n",
    "url = f\"https://{INTERNAL_IP_ADDRESS}/v1/projects/{PROJECT_ID}/locations/{LOCATION}/endpoints/{ENDPOINT_ID}:predict\"\n"
   ]
  },
  {
   "cell_type": "code",
   "execution_count": 11,
   "id": "851f3064-4afd-4141-9cac-35265221b6fd",
   "metadata": {
    "tags": []
   },
   "outputs": [
    {
     "name": "stderr",
     "output_type": "stream",
     "text": [
      "/opt/conda/lib/python3.10/site-packages/urllib3/connectionpool.py:1103: InsecureRequestWarning: Unverified HTTPS request is being made to host '10.168.0.2'. Adding certificate verification is strongly advised. See: https://urllib3.readthedocs.io/en/latest/advanced-usage.html#tls-warnings\n",
      "  warnings.warn(\n"
     ]
    },
    {
     "name": "stdout",
     "output_type": "stream",
     "text": [
      "{'deployedModelId': '8448572581040095232', 'model': 'projects/757654702990/locations/us-west2/models/2875552760122572800', 'modelDisplayName': 'vertex-custom-serve', 'modelVersionId': '1', 'predictions': [[-7.792285919189453, -2.458911180496216, -6.757010459899902, 7.791323661804199, -25.71830368041992, 13.0219030380249, -12.47751426696777, -9.414200782775879, -12.70892524719238, -3.479300022125244]]}\n"
     ]
    }
   ],
   "source": [
    "# # JSON FILE\n",
    "# with open(\"example_payload.json\") as json_file:\n",
    "#     data = json.load(json_file)\n",
    "#     url = f\"https://{INTERNAL_IP_ADDRESS}/v1/projects/{PROJECT_ID}/locations/{LOCATION}/endpoints/{ENDPOINT_ID}:predict\"\n",
    "#     headers = {\n",
    "#       \"Content-Type\": \"application/json\",\n",
    "#       \"Authorization\": f\"Bearer {access_token}\"  # Add access token to headers\n",
    "#     }\n",
    "#     payload = {\n",
    "#       \"instances\": data[\"instances\"],\n",
    "#     }\n",
    "\n",
    "# response = requests.post(url, headers=headers, json=payload, verify=False)\n",
    "# print(response.json())"
   ]
  },
  {
   "cell_type": "code",
   "execution_count": 43,
   "id": "a1bb892e-59ea-4df3-beae-02309f26bf06",
   "metadata": {
    "tags": []
   },
   "outputs": [
    {
     "name": "stdout",
     "output_type": "stream",
     "text": [
      "{'deployedModelId': '2920721797303238656', 'model': 'projects/757654702990/locations/us-central1/models/4952161888596131840', 'modelDisplayName': 'vertex-custom-serve', 'modelVersionId': '1', 'predictions': [[-8.667357444763184, -6.109257221221924, -4.605557441711426, 5.294328689575195, -25.1528377532959, 12.09958076477051, -17.54855728149414, -6.331753253936768, -12.77934455871582, -3.730733156204224]]}\n"
     ]
    }
   ],
   "source": [
    "data = {\"instances\": [[[[0.0, 0.0, 0.0, 0.0, 0.0, 0.0, 0.0, 0.0, 0.0, 0.0, 0.0, 0.0, 0.0, 0.0, 0.0, 0.0, 0.0, 0.0, 0.0, 0.0, 0.0, 0.0, 0.0, 0.0, 0.0, 0.0, 0.0, 0.0], [0.0, 0.0, 0.0, 0.0, 0.0, 0.0, 0.0, 0.0, 0.0, 0.0, 0.0, 0.0, 0.0, 0.0, 0.0, 0.0, 0.0, 0.0, 0.0, 0.0, 0.0, 0.0, 0.0, 0.0, 0.0, 0.0, 0.0, 0.0], [0.0, 0.0, 0.0, 0.0, 0.0, 0.0, 0.0, 0.0, 0.0, 0.0, 0.0, 0.0, 0.0, 0.0, 0.0, 0.0, 0.0, 0.0, 0.0, 0.0, 0.0, 0.0, 0.0, 0.0, 0.0, 0.0, 0.0, 0.0], [0.0, 0.0, 0.0, 0.0, 0.0, 0.0, 0.0, 0.0, 0.0, 0.0, 0.0, 0.0, 0.0, 0.0, 0.0, 0.0, 0.0, 0.0, 0.0, 0.0, 0.0, 0.0, 0.0, 0.0, 0.0, 0.0, 0.0, 0.0], [0.0, 0.0, 0.0, 0.0, 0.0, 0.0, 0.0, 0.0, 0.0, 0.0, 0.0, 0.0, 0.0, 0.0, 0.0, 0.0, 0.0, 0.0, 0.0, 0.0, 0.0, 0.0, 0.0, 0.0, 0.0, 0.0, 0.0, 0.0], [0.0, 0.0, 0.0, 0.0, 0.0, 0.0, 0.0, 0.0, 0.0, 0.0, 0.0, 0.0, 0.0117647061124444, 0.07058823853731155, 0.07058823853731155, 0.07058823853731155, 0.4941176474094391, 0.5333333611488342, 0.686274528503418, 0.10196078568696976, 0.6509804129600525, 1.0, 0.9686274528503418, 0.49803921580314636, 0.0, 0.0, 0.0, 0.0], [0.0, 0.0, 0.0, 0.0, 0.0, 0.0, 0.0, 0.0, 0.11764705926179886, 0.1411764770746231, 0.3686274588108063, 0.6039215922355652, 0.6666666865348816, 0.9921568632125854, 0.9921568632125854, 0.9921568632125854, 0.9921568632125854, 0.9921568632125854, 0.8823529481887817, 0.6745098233222961, 0.9921568632125854, 0.9490196108818054, 0.7647058963775635, 0.250980406999588, 0.0, 0.0, 0.0, 0.0], [0.0, 0.0, 0.0, 0.0, 0.0, 0.0, 0.0, 0.1921568661928177, 0.9333333373069763, 0.9921568632125854, 0.9921568632125854, 0.9921568632125854, 0.9921568632125854, 0.9921568632125854, 0.9921568632125854, 0.9921568632125854, 0.9921568632125854, 0.9843137264251709, 0.364705890417099, 0.32156863808631897, 0.32156863808631897, 0.21960784494876862, 0.15294118225574493, 0.0, 0.0, 0.0, 0.0, 0.0], [0.0, 0.0, 0.0, 0.0, 0.0, 0.0, 0.0, 0.07058823853731155, 0.8588235378265381, 0.9921568632125854, 0.9921568632125854, 0.9921568632125854, 0.9921568632125854, 0.9921568632125854, 0.7764706015586853, 0.7137255072593689, 0.9686274528503418, 0.9450980424880981, 0.0, 0.0, 0.0, 0.0, 0.0, 0.0, 0.0, 0.0, 0.0, 0.0], [0.0, 0.0, 0.0, 0.0, 0.0, 0.0, 0.0, 0.0, 0.3137255012989044, 0.6117647290229797, 0.41960784792900085, 0.9921568632125854, 0.9921568632125854, 0.8039215803146362, 0.04313725605607033, 0.0, 0.16862745583057404, 0.6039215922355652, 0.0, 0.0, 0.0, 0.0, 0.0, 0.0, 0.0, 0.0, 0.0, 0.0], [0.0, 0.0, 0.0, 0.0, 0.0, 0.0, 0.0, 0.0, 0.0, 0.054901961237192154, 0.003921568859368563, 0.6039215922355652, 0.9921568632125854, 0.3529411852359772, 0.0, 0.0, 0.0, 0.0, 0.0, 0.0, 0.0, 0.0, 0.0, 0.0, 0.0, 0.0, 0.0, 0.0], [0.0, 0.0, 0.0, 0.0, 0.0, 0.0, 0.0, 0.0, 0.0, 0.0, 0.0, 0.545098066329956, 0.9921568632125854, 0.7450980544090271, 0.007843137718737125, 0.0, 0.0, 0.0, 0.0, 0.0, 0.0, 0.0, 0.0, 0.0, 0.0, 0.0, 0.0, 0.0], [0.0, 0.0, 0.0, 0.0, 0.0, 0.0, 0.0, 0.0, 0.0, 0.0, 0.0, 0.04313725605607033, 0.7450980544090271, 0.9921568632125854, 0.27450981736183167, 0.0, 0.0, 0.0, 0.0, 0.0, 0.0, 0.0, 0.0, 0.0, 0.0, 0.0, 0.0, 0.0], [0.0, 0.0, 0.0, 0.0, 0.0, 0.0, 0.0, 0.0, 0.0, 0.0, 0.0, 0.0, 0.13725490868091583, 0.9450980424880981, 0.8823529481887817, 0.6274510025978088, 0.42352941632270813, 0.003921568859368563, 0.0, 0.0, 0.0, 0.0, 0.0, 0.0, 0.0, 0.0, 0.0, 0.0], [0.0, 0.0, 0.0, 0.0, 0.0, 0.0, 0.0, 0.0, 0.0, 0.0, 0.0, 0.0, 0.0, 0.3176470696926117, 0.9411764740943909, 0.9921568632125854, 0.9921568632125854, 0.46666666865348816, 0.09803921729326248, 0.0, 0.0, 0.0, 0.0, 0.0, 0.0, 0.0, 0.0, 0.0], [0.0, 0.0, 0.0, 0.0, 0.0, 0.0, 0.0, 0.0, 0.0, 0.0, 0.0, 0.0, 0.0, 0.0, 0.1764705926179886, 0.729411780834198, 0.9921568632125854, 0.9921568632125854, 0.5882353186607361, 0.10588235408067703, 0.0, 0.0, 0.0, 0.0, 0.0, 0.0, 0.0, 0.0], [0.0, 0.0, 0.0, 0.0, 0.0, 0.0, 0.0, 0.0, 0.0, 0.0, 0.0, 0.0, 0.0, 0.0, 0.0, 0.062745101749897, 0.364705890417099, 0.9882352948188782, 0.9921568632125854, 0.7333333492279053, 0.0, 0.0, 0.0, 0.0, 0.0, 0.0, 0.0, 0.0], [0.0, 0.0, 0.0, 0.0, 0.0, 0.0, 0.0, 0.0, 0.0, 0.0, 0.0, 0.0, 0.0, 0.0, 0.0, 0.0, 0.0, 0.9764705896377563, 0.9921568632125854, 0.9764705896377563, 0.250980406999588, 0.0, 0.0, 0.0, 0.0, 0.0, 0.0, 0.0], [0.0, 0.0, 0.0, 0.0, 0.0, 0.0, 0.0, 0.0, 0.0, 0.0, 0.0, 0.0, 0.0, 0.0, 0.18039216101169586, 0.5098039507865906, 0.7176470756530762, 0.9921568632125854, 0.9921568632125854, 0.8117647171020508, 0.007843137718737125, 0.0, 0.0, 0.0, 0.0, 0.0, 0.0, 0.0], [0.0, 0.0, 0.0, 0.0, 0.0, 0.0, 0.0, 0.0, 0.0, 0.0, 0.0, 0.0, 0.15294118225574493, 0.5803921818733215, 0.8980392217636108, 0.9921568632125854, 0.9921568632125854, 0.9921568632125854, 0.9803921580314636, 0.7137255072593689, 0.0, 0.0, 0.0, 0.0, 0.0, 0.0, 0.0, 0.0], [0.0, 0.0, 0.0, 0.0, 0.0, 0.0, 0.0, 0.0, 0.0, 0.0, 0.0941176488995552, 0.4470588266849518, 0.8666666746139526, 0.9921568632125854, 0.9921568632125854, 0.9921568632125854, 0.9921568632125854, 0.7882353067398071, 0.30588236451148987, 0.0, 0.0, 0.0, 0.0, 0.0, 0.0, 0.0, 0.0, 0.0], [0.0, 0.0, 0.0, 0.0, 0.0, 0.0, 0.0, 0.0, 0.09019608050584793, 0.25882354378700256, 0.8352941274642944, 0.9921568632125854, 0.9921568632125854, 0.9921568632125854, 0.9921568632125854, 0.7764706015586853, 0.3176470696926117, 0.007843137718737125, 0.0, 0.0, 0.0, 0.0, 0.0, 0.0, 0.0, 0.0, 0.0, 0.0], [0.0, 0.0, 0.0, 0.0, 0.0, 0.0, 0.07058823853731155, 0.6705882549285889, 0.8588235378265381, 0.9921568632125854, 0.9921568632125854, 0.9921568632125854, 0.9921568632125854, 0.7647058963775635, 0.3137255012989044, 0.03529411926865578, 0.0, 0.0, 0.0, 0.0, 0.0, 0.0, 0.0, 0.0, 0.0, 0.0, 0.0, 0.0], [0.0, 0.0, 0.0, 0.0, 0.21568627655506134, 0.6745098233222961, 0.886274516582489, 0.9921568632125854, 0.9921568632125854, 0.9921568632125854, 0.9921568632125854, 0.95686274766922, 0.5215686559677124, 0.04313725605607033, 0.0, 0.0, 0.0, 0.0, 0.0, 0.0, 0.0, 0.0, 0.0, 0.0, 0.0, 0.0, 0.0, 0.0], [0.0, 0.0, 0.0, 0.0, 0.5333333611488342, 0.9921568632125854, 0.9921568632125854, 0.9921568632125854, 0.8313725590705872, 0.529411792755127, 0.5176470875740051, 0.062745101749897, 0.0, 0.0, 0.0, 0.0, 0.0, 0.0, 0.0, 0.0, 0.0, 0.0, 0.0, 0.0, 0.0, 0.0, 0.0, 0.0], [0.0, 0.0, 0.0, 0.0, 0.0, 0.0, 0.0, 0.0, 0.0, 0.0, 0.0, 0.0, 0.0, 0.0, 0.0, 0.0, 0.0, 0.0, 0.0, 0.0, 0.0, 0.0, 0.0, 0.0, 0.0, 0.0, 0.0, 0.0], [0.0, 0.0, 0.0, 0.0, 0.0, 0.0, 0.0, 0.0, 0.0, 0.0, 0.0, 0.0, 0.0, 0.0, 0.0, 0.0, 0.0, 0.0, 0.0, 0.0, 0.0, 0.0, 0.0, 0.0, 0.0, 0.0, 0.0, 0.0], [0.0, 0.0, 0.0, 0.0, 0.0, 0.0, 0.0, 0.0, 0.0, 0.0, 0.0, 0.0, 0.0, 0.0, 0.0, 0.0, 0.0, 0.0, 0.0, 0.0, 0.0, 0.0, 0.0, 0.0, 0.0, 0.0, 0.0, 0.0]]]]}\n",
    "url = f\"https://{INTERNAL_IP_ADDRESS}/v1/projects/{PROJECT_ID}/locations/{LOCATION}/endpoints/{ENDPOINT_ID}:predict\"\n",
    "headers = {\n",
    "    \"Content-Type\": \"application/json\",\n",
    "    \"Authorization\": f\"Bearer {access_token}\",  # Add access token to headers\n",
    "}\n",
    "payload = {\n",
    "    \"instances\": data[\"instances\"],\n",
    "}\n",
    "\n",
    "response = requests.post(url, headers=headers, json=payload, verify=False)\n",
    "\n",
    "print(response.json())\n"
   ]
  },
  {
   "cell_type": "markdown",
   "id": "9c15cac7-45a7-43f0-ba66-8804af2d3f81",
   "metadata": {},
   "source": [
    "### Run Locust Session & Stress Test\n",
    "\n",
    "Run a Locust session, execute stress tests, and generate visual charts & statistics to assess the health and scalability of the endpoint.\n",
    "\n",
    "Examples outputs and commands below:\n",
    "\n",
    "![stress-stats.png](./imgs/stress-test-stats.png)\n",
    "<br><br>\n",
    "![stress-test.png](./imgs/stress-test.png)\n"
   ]
  },
  {
   "cell_type": "code",
   "execution_count": 52,
   "id": "7a703781-d909-45d3-a744-9ed02463138c",
   "metadata": {
    "tags": []
   },
   "outputs": [],
   "source": [
    "payload_file = \"example_payload.json\"  # @param {type:\"string\"}\n",
    "\n",
    "locustfile_content = f\"\"\"\n",
    "from locust import HttpUser, task, between\n",
    "import json\n",
    "import subprocess\n",
    "\n",
    "import json\n",
    "import google.auth.transport.requests\n",
    "import google.auth\n",
    "from google.cloud import storage\n",
    "import requests\n",
    "\n",
    "import warnings\n",
    "warnings.filterwarnings('ignore')\n",
    "\n",
    "class VertexAIPredict(HttpUser):\n",
    "    wait_time = between(1, 3)\n",
    "\n",
    "    host = \"https://{INTERNAL_IP_ADDRESS}\"\n",
    "\n",
    "    def __init__(self, *args, **kwargs):\n",
    "        super().__init__(*args, **kwargs)\n",
    "\n",
    "        self.project_id = \"{PROJECT_ID}\"\n",
    "        self.location = \"{LOCATION}\"\n",
    "        self.endpoint_id = \"{ENDPOINT_ID}\"\n",
    "        self.access_token = self.get_token()\n",
    "\n",
    "    def get_token(self):\n",
    "        try:\n",
    "            token = subprocess.check_output(['gcloud', 'auth', 'print-access-token']).decode('utf-8').strip()\n",
    "            return token\n",
    "        except subprocess.CalledProcessError:\n",
    "            print(\"Error getting access token. Make sure gcloud is configured.\")\n",
    "            return None\n",
    "\n",
    "\n",
    "    @task\n",
    "    def predict_endpoint(self):\n",
    "\n",
    "        credentials, project_id = google.auth.default()\n",
    "        auth_req = google.auth.transport.requests.Request()\n",
    "        credentials.refresh(auth_req)\n",
    "        access_token = credentials.token\n",
    "\n",
    "        with open(\"{payload_file}\", \"r\") as json_file:\n",
    "            data = json.load(json_file)\n",
    "            path = f\"/v1/projects/{{self.project_id}}/locations/{{self.location}}/endpoints/{{self.endpoint_id}}:predict\"\n",
    "\n",
    "            headers = {{\n",
    "                \"Content-Type\": \"application/json\",\n",
    "                \"Authorization\": f\"Bearer {{access_token}}\"\n",
    "            }}\n",
    "            payload = {{\n",
    "                \"instances\": data[\"instances\"],\n",
    "            }}\n",
    "\n",
    "\n",
    "        with self.client.post(\n",
    "            path,\n",
    "            headers=headers,\n",
    "            json=payload,\n",
    "            verify=False,\n",
    "            catch_response=True,\n",
    "            name=\"/predict\"\n",
    "        ) as response:\n",
    "            if response.status_code != 200:\n",
    "                response.failure(f\"Failed: {{response.status_code}}. Response Content: {{response.text}}\") # Include response content\n",
    "\"\"\"\n",
    "\n",
    "\n",
    "with open(\"locust_test.py\", \"w\") as f:\n",
    "    f.write(locustfile_content)\n"
   ]
  },
  {
   "cell_type": "code",
   "execution_count": null,
   "id": "c8149cc2-42f8-4a87-8747-dca10a158ce0",
   "metadata": {},
   "outputs": [],
   "source": [
    "! locust -f locust_test.py"
   ]
  },
  {
   "cell_type": "code",
   "execution_count": 45,
   "id": "7c9cafc8-6a71-497d-848e-a1877b42b933",
   "metadata": {},
   "outputs": [
    {
     "name": "stdout",
     "output_type": "stream",
     "text": [
      "Type     Name  # reqs      # fails |    Avg     Min     Max    Med |   req/s  failures/s\n",
      "--------||-------|-------------|-------|-------|-------|-------|--------|-----------\n",
      "POST     /predict   45456     0(0.00%) |     91       5    7165    100 |   75.77        0.00\n",
      "--------||-------|-------------|-------|-------|-------|-------|--------|-----------\n",
      "         Aggregated   45456     0(0.00%) |     91       5    7165    100 |   75.77        0.00\n",
      "\n",
      "Response time percentiles (approximated)\n",
      "Type     Name      50%    66%    75%    80%    90%    95%    98%    99%  99.9% 99.99%   100% # reqs\n",
      "--------||--------|------|------|------|------|------|------|------|------|------|------|------\n",
      "POST     /predict      100    110    120    130    150    170    190    220    370   3400   7200  45456\n",
      "--------||--------|------|------|------|------|------|------|------|------|------|------|------\n",
      "         Aggregated      100    110    120    130    150    170    190    220    370   3400   7200  45456\n",
      "\n"
     ]
    }
   ],
   "source": [
    "! locust -f locust_test.py --headless -u 1000 -r 100 --run-time 10m --only-summary --loglevel CRITICAL"
   ]
  },
  {
   "cell_type": "code",
   "execution_count": null,
   "id": "4f652c72-a046-4d0c-9a40-13e788022059",
   "metadata": {},
   "outputs": [],
   "source": []
  }
 ],
 "metadata": {
  "environment": {
   "kernel": "conda-root-py",
   "name": "workbench-notebooks.m117",
   "type": "gcloud",
   "uri": "us-docker.pkg.dev/deeplearning-platform-release/gcr.io/workbench-notebooks:m117"
  },
  "kernelspec": {
   "display_name": "Python 3 (ipykernel) (Local)",
   "language": "python",
   "name": "conda-root-py"
  },
  "language_info": {
   "codemirror_mode": {
    "name": "ipython",
    "version": 3
   },
   "file_extension": ".py",
   "mimetype": "text/x-python",
   "name": "python",
   "nbconvert_exporter": "python",
   "pygments_lexer": "ipython3",
   "version": "3.10.13"
  }
 },
 "nbformat": 4,
 "nbformat_minor": 5
}
